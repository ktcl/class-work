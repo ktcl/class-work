{
 "cells": [
  {
   "cell_type": "markdown",
   "metadata": {},
   "source": [
    "# Jupyter Notebook Example"
   ]
  },
  {
   "cell_type": "markdown",
   "metadata": {},
   "source": [
    "This is my first attempt at a Jupyter Notebook to demonstrate using markdown text and python code together as a way of sharing our work with instructions and tips. The following example is from Chapter 10 exercise #1.\n",
    "\n",
    "To run the code:\n",
    "1. Click in the code cell below.\n",
    "2. Use the Cell | Run Cells from the menu or press **[Shift]+[Enter]**.\n",
    "3. Type **data\\mbox.txt** when prompted.\n",
    "\n",
    "Edit the second line from the bottom to display the first 10 (top 10) and re-run the code. Try it with 20."
   ]
  },
  {
   "cell_type": "code",
   "execution_count": 1,
   "metadata": {},
   "outputs": [
    {
     "name": "stdout",
     "output_type": "stream",
     "text": [
      "Enter the file name: data\\mbox.txt\n",
      "195 zqian@umich.edu\n",
      "161 mmmay@indiana.edu\n",
      "158 cwen@iupui.edu\n"
     ]
    }
   ],
   "source": [
    "fname = input('Enter the file name: ')\n",
    "try:\n",
    "    fhand = open(fname)\n",
    "except:\n",
    "    print('File cannot be opened:', fname)\n",
    "    exit()\n",
    "counts = dict()\n",
    "for line in fhand:\n",
    "    words = line.split()\n",
    "    if not len(words) == 0 and words[0] == 'From' : \n",
    "        if words[1] not in counts:\n",
    "            counts[words[1]] = 1\n",
    "        else:\n",
    "            counts[words[1]] += 1\n",
    "\n",
    "# Sort the dictionary by value\n",
    "lst = list()\n",
    "for key, val in counts.items():\n",
    "    lst.append( (val, key) )\n",
    "lst.sort(reverse=True)\n",
    "\n",
    "for key, val in lst[:3] :   # I could changed to 1st 3 / replace 3 with 1 to get only top 1\n",
    "    print(key, val)"
   ]
  },
  {
   "cell_type": "code",
   "execution_count": null,
   "metadata": {
    "collapsed": true
   },
   "outputs": [],
   "source": []
  }
 ],
 "metadata": {
  "kernelspec": {
   "display_name": "Python 3",
   "language": "python",
   "name": "python3"
  },
  "language_info": {
   "codemirror_mode": {
    "name": "ipython",
    "version": 3
   },
   "file_extension": ".py",
   "mimetype": "text/x-python",
   "name": "python",
   "nbconvert_exporter": "python",
   "pygments_lexer": "ipython3",
   "version": "3.6.3"
  }
 },
 "nbformat": 4,
 "nbformat_minor": 2
}
